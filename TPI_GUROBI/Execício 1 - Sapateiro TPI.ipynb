{
 "cells": [
  {
   "cell_type": "code",
   "execution_count": 5,
   "metadata": {},
   "outputs": [],
   "source": [
    "# Execício 1 - Sapateiro TPI - PO\n",
    "\n",
    "# Este exemplo formula e resolve o seguinte exercício/problema:\n",
    "# maximizar \n",
    "# 5x1 + 2x2 z \n",
    "# sujeito a \n",
    "# 2x1 + x2 <= 6 \n",
    "# 10x1 + 12x2 <= 60 \n",
    "# x1, x2 binário\n",
    "import gurobipy as gp"
   ]
  },
  {
   "cell_type": "code",
   "execution_count": 8,
   "metadata": {},
   "outputs": [
    {
     "name": "stdout",
     "output_type": "stream",
     "text": [
      "Gurobi Optimizer version 9.1.0 build v9.1.0rc0 (win64)\n",
      "Thread count: 2 physical cores, 2 logical processors, using up to 2 threads\n",
      "Optimize a model with 2 rows, 2 columns and 4 nonzeros\n",
      "Model fingerprint: 0xb8bba9d0\n",
      "Coefficient statistics:\n",
      "  Matrix range     [1e+00, 1e+01]\n",
      "  Objective range  [2e+00, 5e+00]\n",
      "  Bounds range     [0e+00, 0e+00]\n",
      "  RHS range        [6e+00, 6e+01]\n",
      "Presolve time: 0.22s\n",
      "Presolved: 2 rows, 2 columns, 4 nonzeros\n",
      "\n",
      "Iteration    Objective       Primal Inf.    Dual Inf.      Time\n",
      "       0    4.5000000e+30   4.125000e+30   4.500000e+00      0s\n",
      "       2    1.5000000e+01   0.000000e+00   0.000000e+00      0s\n",
      "\n",
      "Solved in 2 iterations and 0.29 seconds\n",
      "Optimal objective  1.500000000e+01\n",
      " \n",
      "Solução: \n",
      "Quantidade de sapatos por hora: 3.0\n",
      "Quantidade de cintos por hora: 0.0\n"
     ]
    }
   ],
   "source": [
    "    # Crie o modelo \n",
    "    m = gp.Model ( \" Execício 1 - Sapateiro \" )\n",
    "\n",
    "    # Crie/Insere variáveis de decisão \n",
    "    x1= m.addVar () #Quantidade de sapatos por hora\n",
    "    x2= m.addVar () #Quantidade de cintos por hora \n",
    "        \n",
    "    # Definir a função objetivo \n",
    "    #Maximizar o lucro pro hora\n",
    "    m.setObjective ( 5 * x1 + 2 * x2, sense=gp.GRB.MAXIMIZE )  \n",
    "\n",
    "    # Adicionar/Insere as restrição do modelo: 2x1 + x2 <= 6  \n",
    "    #addConstr adiciona restrições ao modelo \n",
    "    c1 = m.addConstr ( 2 * x1 + x2 <= 6  )      \n",
    "\n",
    "    # Adicionar restrição: 10x1 + 12x2 <= 60 \n",
    "    c2 = m.addConstr ( 10 * x1 + 12 * x2 <= 60 )  \n",
    "    \n",
    "    # Adicionar restrição:  \n",
    "    # Não tem restrições negativas - Nâo incluí no modelo  \n",
    "\n",
    "    # Resolve/Otimize o modelo \n",
    "    \n",
    "    m.optimize () #Chamar o solver e reslver o modelo\n",
    "    print (\" \")\n",
    "    print (\"Solução: \")\n",
    "    #Acesar a solução\n",
    "    #Imprimir o minimo de produção OU o quanto vou produzir\n",
    "    #Aacessando o valor dessa variável (x1) na solução ótima\n",
    "    print (\"Quantidade de sapatos por hora:\", x1.x)\n",
    "    print (\"Quantidade de cintos por hora:\", x2.x)\n",
    "    \n",
    "       \n",
    "    "
   ]
  },
  {
   "cell_type": "code",
   "execution_count": null,
   "metadata": {},
   "outputs": [],
   "source": []
  },
  {
   "cell_type": "code",
   "execution_count": null,
   "metadata": {},
   "outputs": [],
   "source": []
  }
 ],
 "metadata": {
  "kernelspec": {
   "display_name": "Python 3",
   "language": "python",
   "name": "python3"
  },
  "language_info": {
   "codemirror_mode": {
    "name": "ipython",
    "version": 3
   },
   "file_extension": ".py",
   "mimetype": "text/x-python",
   "name": "python",
   "nbconvert_exporter": "python",
   "pygments_lexer": "ipython3",
   "version": "3.8.3"
  }
 },
 "nbformat": 4,
 "nbformat_minor": 4
}
