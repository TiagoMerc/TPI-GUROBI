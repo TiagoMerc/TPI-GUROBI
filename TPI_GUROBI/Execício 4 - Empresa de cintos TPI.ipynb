{
 "cells": [
  {
   "cell_type": "code",
   "execution_count": 4,
   "metadata": {},
   "outputs": [],
   "source": [
    "# Execício 4 - Empresa de cintos TPI - PO\n",
    "\n",
    "# Este exemplo formula e resolve o seguinte exercício/problema:\n",
    "# maximizar \n",
    "# 4x1 + 3x2 z \n",
    "# sujeito a \n",
    "# 2x1 + x2 <= 1000 \n",
    "# x1 + x2 <= 800\n",
    "# x1 <= 400\n",
    "# x2 <= 700\n",
    "\n",
    "# x1, x2 binário\n",
    "import gurobipy as gp"
   ]
  },
  {
   "cell_type": "code",
   "execution_count": 3,
   "metadata": {},
   "outputs": [
    {
     "name": "stdout",
     "output_type": "stream",
     "text": [
      "Using license file C:\\Users\\TiagoMR\\gurobi.lic\n",
      "Academic license - for non-commercial use only - expires 2021-01-16\n",
      "Gurobi Optimizer version 9.1.0 build v9.1.0rc0 (win64)\n",
      "Thread count: 2 physical cores, 2 logical processors, using up to 2 threads\n",
      "Optimize a model with 4 rows, 2 columns and 6 nonzeros\n",
      "Model fingerprint: 0x90381d23\n",
      "Coefficient statistics:\n",
      "  Matrix range     [1e+00, 2e+00]\n",
      "  Objective range  [3e+00, 4e+00]\n",
      "  Bounds range     [0e+00, 0e+00]\n",
      "  RHS range        [4e+02, 1e+03]\n",
      "Presolve removed 2 rows and 0 columns\n",
      "Presolve time: 0.10s\n",
      "Presolved: 2 rows, 2 columns, 4 nonzeros\n",
      "\n",
      "Iteration    Objective       Primal Inf.    Dual Inf.      Time\n",
      "       0    3.0000000e+03   6.250000e+01   0.000000e+00      0s\n",
      "       2    2.6000000e+03   0.000000e+00   0.000000e+00      0s\n",
      "\n",
      "Solved in 2 iterations and 0.32 seconds\n",
      "Optimal objective  2.600000000e+03\n",
      "\n",
      "Solução: \n",
      "Quatidade M1: 200.0\n",
      "Quatidade M2: 600.0\n"
     ]
    }
   ],
   "source": [
    "    # Crie o modelo \n",
    "    m = gp.Model ( \" Execício 4 - Empresa de cintos TPI \" )\n",
    "\n",
    "    # Crie/Insere variáveis de decisão \n",
    "    x1= m.addVar () #Quantidade de M1/dia\n",
    "    x2= m.addVar () #Quantidade de M2/dia\n",
    "        \n",
    "    # Definir a função objetivo \n",
    "    #Maximizar o lucro diário da empresa\n",
    "    m.setObjective ( 4 * x1 + 3 * x2, sense=gp.GRB.MAXIMIZE )  \n",
    "\n",
    "    # Adicionar/Insere as restrição do modelo: 2x1 + x2 <= 1000    \n",
    "    #addConstr adiciona restrições ao modelo\n",
    "    \n",
    "    c1 = m.addConstr ( 2 * x1 + x2 <= 1000 ) #Restrição volume de produção    \n",
    "\n",
    "    # Adicionar restrição:  x1 + x2 <= 800 \n",
    "    c2 = m.addConstr (  x1 + x2 <= 800 )  #Restrição capacidade máxima de produção devido couro\n",
    "    \n",
    "    # Adicionar restrição:   x1 <= 400\n",
    "    c3 = m.addConstr (  x1 <= 400 )  #Restrição disponibilidade diária de fivela para M1\n",
    "    \n",
    "    # Adicionar restrição:   x2 <= 700\n",
    "    c4 = m.addConstr ( x2 <= 700 )  #Restrição disponibilidade diária de fivela para M2\n",
    "    \n",
    "    # Adicionar restrição:  \n",
    "    # Não tem restrições negativas - Nâo incluí no modelo  \n",
    "\n",
    "    # Resolve/Otimize o modelo \n",
    "    \n",
    "    m.optimize () #Chamar o solver e reslver o modelo\n",
    "    print (\"\")\n",
    "    print (\"Solução: \")\n",
    "    #Acessar a solução\n",
    "    #Imprimir o minimo de produção OU o quandto vou produzir\n",
    "    #Aacessando o valor dessa variável (x1 e x2) na solução ótima\n",
    "    print (\"Quatidade M1:\", x1.x)\n",
    "    print (\"Quatidade M2:\", x2.x)\n",
    "   \n",
    "    "
   ]
  },
  {
   "cell_type": "code",
   "execution_count": null,
   "metadata": {},
   "outputs": [],
   "source": []
  }
 ],
 "metadata": {
  "kernelspec": {
   "display_name": "Python 3",
   "language": "python",
   "name": "python3"
  },
  "language_info": {
   "codemirror_mode": {
    "name": "ipython",
    "version": 3
   },
   "file_extension": ".py",
   "mimetype": "text/x-python",
   "name": "python",
   "nbconvert_exporter": "python",
   "pygments_lexer": "ipython3",
   "version": "3.8.3"
  }
 },
 "nbformat": 4,
 "nbformat_minor": 4
}
