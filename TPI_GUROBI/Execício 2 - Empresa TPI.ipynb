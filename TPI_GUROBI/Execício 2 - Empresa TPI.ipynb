{
 "cells": [
  {
   "cell_type": "code",
   "execution_count": 14,
   "metadata": {},
   "outputs": [],
   "source": [
    "# Execício 2 - Empresa TPI - PO\n",
    "\n",
    "# Este exemplo formula e resolve o seguinte exercício/problema:\n",
    "# maximizar \n",
    "# 100x1 + 150x2 z \n",
    "# sujeito a \n",
    "# 2x1 + 3x2 <= 120 \n",
    "#  x1 <= 40 \n",
    "#  x2 <= 30 \n",
    "# x1, x2 binário\n",
    "import gurobipy as gp"
   ]
  },
  {
   "cell_type": "code",
   "execution_count": 15,
   "metadata": {},
   "outputs": [
    {
     "name": "stdout",
     "output_type": "stream",
     "text": [
      "Gurobi Optimizer version 9.1.0 build v9.1.0rc0 (win64)\n",
      "Thread count: 2 physical cores, 2 logical processors, using up to 2 threads\n",
      "Optimize a model with 3 rows, 2 columns and 4 nonzeros\n",
      "Model fingerprint: 0x192a9ebe\n",
      "Coefficient statistics:\n",
      "  Matrix range     [1e+00, 3e+00]\n",
      "  Objective range  [1e+02, 2e+02]\n",
      "  Bounds range     [0e+00, 0e+00]\n",
      "  RHS range        [3e+01, 1e+02]\n",
      "Presolve removed 3 rows and 2 columns\n",
      "Presolve time: 0.85s\n",
      "Presolve: All rows and columns removed\n",
      "Iteration    Objective       Primal Inf.    Dual Inf.      Time\n",
      "       0    6.0000000e+03   0.000000e+00   0.000000e+00      1s\n",
      "\n",
      "Solved in 0 iterations and 0.98 seconds\n",
      "Optimal objective  6.000000000e+03\n",
      "\n",
      "Solução: \n",
      "Quantidade de P1: 15.0\n",
      "Quantidade de P2: 30.0\n"
     ]
    }
   ],
   "source": [
    "    # Crie o modelo \n",
    "    m = gp.Model ( \" Execício 2 - Empresa  \" )\n",
    "\n",
    "    # Crie/Insere variáveis de decisão \n",
    "    x1= m.addVar () #Quantidade de P1\n",
    "    x2= m.addVar () #Quantidade de P2 \n",
    "        \n",
    "    # Definir a função objetivo \n",
    "    #Maximizar o lucro da empresa\n",
    "    m.setObjective ( 100 * x1 + 150 * x2, sense=gp.GRB.MAXIMIZE )  \n",
    "\n",
    "    # Adicionar/Insere as restrição do modelo: 2x1 + 3x2 <= 120   \n",
    "    #addConstr adiciona restrições ao modelo\n",
    "    \n",
    "    c1 = m.addConstr ( 2 * x1 + 3 * x2 <= 120   ) #Restrição por tempo de produção     \n",
    "\n",
    "    # Adicionar restrição:  x1 <= 40  #Restrição por produção\n",
    "    c2 = m.addConstr ( x1 <= 40 )  \n",
    "    \n",
    "    # Adicionar restrição:  x2 <= 30 #Restrição por produção\n",
    "    c3 = m.addConstr ( x2 <= 30 )  \n",
    "    \n",
    "    # Adicionar restrição:  \n",
    "    # Não tem restrições negativas - Nâo incluí no modelo  \n",
    "\n",
    "    # Resolve/Otimize o modelo \n",
    "    \n",
    "    m.optimize () #Chamar o solver e reslver o modelo\n",
    "    print (\"\")\n",
    "    print (\"Solução: \")\n",
    "    #Acessar a solução\n",
    "    #Imprimir o minimo de produção OU o quandto vou produzir\n",
    "    #Aacessando o valor dessa variável (x1) na solução ótima\n",
    "    print (\"Quantidade de P1:\", x1.x)\n",
    "    print (\"Quantidade de P2:\", x2.x)\n",
    "   \n",
    "    \n",
    "    \n",
    "    "
   ]
  },
  {
   "cell_type": "code",
   "execution_count": null,
   "metadata": {},
   "outputs": [],
   "source": []
  },
  {
   "cell_type": "code",
   "execution_count": null,
   "metadata": {},
   "outputs": [],
   "source": []
  }
 ],
 "metadata": {
  "kernelspec": {
   "display_name": "Python 3",
   "language": "python",
   "name": "python3"
  },
  "language_info": {
   "codemirror_mode": {
    "name": "ipython",
    "version": 3
   },
   "file_extension": ".py",
   "mimetype": "text/x-python",
   "name": "python",
   "nbconvert_exporter": "python",
   "pygments_lexer": "ipython3",
   "version": "3.8.3"
  }
 },
 "nbformat": 4,
 "nbformat_minor": 4
}
