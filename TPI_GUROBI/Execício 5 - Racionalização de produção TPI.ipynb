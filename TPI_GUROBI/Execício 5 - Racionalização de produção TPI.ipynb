{
 "cells": [
  {
   "cell_type": "code",
   "execution_count": 4,
   "metadata": {},
   "outputs": [],
   "source": [
    "# Execício 5 - Racionalização de produção TPI - PO\n",
    "\n",
    "# Este exemplo formula e resolve o seguinte exercício/problema:\n",
    "# maximizar \n",
    "# 120x1 + 150x2 z \n",
    "# sujeito a \n",
    "# 2x1 + 4x2 <= 100\n",
    "# 3x1 + 2x2 <= 90\n",
    "# 5x1 + 3x2 <= 120\n",
    "\n",
    "# x1, x2 binário\n",
    "import gurobipy as gp"
   ]
  },
  {
   "cell_type": "code",
   "execution_count": 3,
   "metadata": {},
   "outputs": [
    {
     "name": "stdout",
     "output_type": "stream",
     "text": [
      "Using license file C:\\Users\\TiagoMR\\gurobi.lic\n",
      "Academic license - for non-commercial use only - expires 2021-01-16\n",
      "Gurobi Optimizer version 9.1.0 build v9.1.0rc0 (win64)\n",
      "Thread count: 2 physical cores, 2 logical processors, using up to 2 threads\n",
      "Optimize a model with 3 rows, 2 columns and 6 nonzeros\n",
      "Model fingerprint: 0x93ae9df7\n",
      "Coefficient statistics:\n",
      "  Matrix range     [2e+00, 5e+00]\n",
      "  Objective range  [1e+02, 2e+02]\n",
      "  Bounds range     [0e+00, 0e+00]\n",
      "  RHS range        [9e+01, 1e+02]\n",
      "Presolve time: 0.07s\n",
      "Presolved: 3 rows, 2 columns, 6 nonzeros\n",
      "\n",
      "Iteration    Objective       Primal Inf.    Dual Inf.      Time\n",
      "       0    2.7000000e+32   3.750000e+30   2.700000e+02      0s\n",
      "       2    4.3285714e+03   0.000000e+00   0.000000e+00      0s\n",
      "\n",
      "Solved in 2 iterations and 0.17 seconds\n",
      "Optimal objective  4.328571429e+03\n",
      "\n",
      "Solução: \n",
      "Quatidade de P1: 12.857142857142858\n",
      "Quatidade de P2: 18.57142857142857\n"
     ]
    }
   ],
   "source": [
    "    # Crie o modelo \n",
    "    m = gp.Model ( \" Execício 5 - Racionalização de produção TPI \" )\n",
    "\n",
    "    # Crie/Insere variáveis de decisão \n",
    "    x1= m.addVar () #Quantidade de P1\n",
    "    x2= m.addVar () #Quantidade de P2\n",
    "        \n",
    "    # Definir a função objetivo \n",
    "    #Maximizar o lucro para a empresa\n",
    "    m.setObjective ( 120 * x1 + 150 * x2, sense=gp.GRB.MAXIMIZE )  \n",
    "\n",
    "    # Adicionar/Insere as restrição do modelo: 2x1 + x2 <= 1000    \n",
    "    #addConstr adiciona restrições ao modelo\n",
    "    \n",
    "    c1 = m.addConstr ( 2 * x1 + 4 * x2 <= 100 ) #Restrição do recurso R1    \n",
    "\n",
    "    # Adicionar restrição:  3x1 + 2x2 <= 90\n",
    "    c2 = m.addConstr (  3 * x1 + 2 * x2 <= 90 )  #Restrição do recurso R2\n",
    "    \n",
    "    # Adicionar restrição:  5x1 + 3x2 <= 120\n",
    "    c3 = m.addConstr (  5 * x1 + 3 * x2 <= 120 )  #Restrição do recurso R3\n",
    "    \n",
    "     \n",
    "    # Adicionar restrição:  \n",
    "    # Não tem restrições negativas - Nâo incluí no modelo  \n",
    "\n",
    "    # Resolve/Otimize o modelo \n",
    "    \n",
    "    m.optimize () #Chamar o solver e reslver o modelo\n",
    "    print (\"\")\n",
    "    print (\"Solução: \")\n",
    "    #Acessar a solução\n",
    "    #Imprimir o minimo de produção OU o quandto vou produzir\n",
    "    #Aacessando o valor dessa variável (x1 e x2) na solução ótima\n",
    "    print (\"Quatidade de P1:\", x1.x)\n",
    "    print (\"Quatidade de P2:\", x2.x)"
   ]
  },
  {
   "cell_type": "code",
   "execution_count": null,
   "metadata": {},
   "outputs": [],
   "source": []
  }
 ],
 "metadata": {
  "kernelspec": {
   "display_name": "Python 3",
   "language": "python",
   "name": "python3"
  },
  "language_info": {
   "codemirror_mode": {
    "name": "ipython",
    "version": 3
   },
   "file_extension": ".py",
   "mimetype": "text/x-python",
   "name": "python",
   "nbconvert_exporter": "python",
   "pygments_lexer": "ipython3",
   "version": "3.8.3"
  }
 },
 "nbformat": 4,
 "nbformat_minor": 4
}
