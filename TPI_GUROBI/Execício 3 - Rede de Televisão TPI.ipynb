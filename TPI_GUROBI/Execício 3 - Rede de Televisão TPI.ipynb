{
 "cells": [
  {
   "cell_type": "code",
   "execution_count": 6,
   "metadata": {},
   "outputs": [],
   "source": [
    "# Execício 3 - Rede de Televisão TPI - PO\n",
    "\n",
    "# Este exemplo formula e resolve o seguinte exercício/problema:\n",
    "# maximizar \n",
    "# 30000x1 + 10000x2 z \n",
    "# sujeito a \n",
    "# 20x1 + 10x2 <= 80 \n",
    "#  x1 + x2 >= 5 \n",
    "# x1, x2 binário\n",
    "import gurobipy as gp"
   ]
  },
  {
   "cell_type": "code",
   "execution_count": 5,
   "metadata": {},
   "outputs": [
    {
     "name": "stdout",
     "output_type": "stream",
     "text": [
      "Gurobi Optimizer version 9.1.0 build v9.1.0rc0 (win64)\n",
      "Thread count: 2 physical cores, 2 logical processors, using up to 2 threads\n",
      "Optimize a model with 2 rows, 2 columns and 4 nonzeros\n",
      "Model fingerprint: 0x63a834f9\n",
      "Coefficient statistics:\n",
      "  Matrix range     [1e+00, 2e+01]\n",
      "  Objective range  [1e+04, 3e+04]\n",
      "  Bounds range     [0e+00, 0e+00]\n",
      "  RHS range        [5e+00, 8e+01]\n",
      "Presolve removed 2 rows and 2 columns\n",
      "Presolve time: 0.27s\n",
      "Presolve: All rows and columns removed\n",
      "Iteration    Objective       Primal Inf.    Dual Inf.      Time\n",
      "       0    1.1000000e+05   0.000000e+00   0.000000e+00      0s\n",
      "\n",
      "Solved in 0 iterations and 0.47 seconds\n",
      "Optimal objective  1.100000000e+05\n",
      "\n",
      "Solução: \n",
      "Frequência A: 3.0\n",
      "Frequência B: 2.0\n"
     ]
    }
   ],
   "source": [
    "    # Crie o modelo \n",
    "    m = gp.Model ( \" Execício 3 - Rede de Televisão  \" )\n",
    "\n",
    "    # Crie/Insere variáveis de decisão \n",
    "    x1= m.addVar () #Frequência semanal A\n",
    "    x2= m.addVar () #Frequência semanal B \n",
    "        \n",
    "    # Definir a função objetivo \n",
    "    #Maximizar o levar ao ar para obter o número máximo de telespectadores\n",
    "    m.setObjective ( 30000 * x1 + 10000 * x2, sense=gp.GRB.MAXIMIZE )  \n",
    "\n",
    "    # Adicionar/Insere as restrição do modelo: 20x1 + 10x2 <= 80    \n",
    "    #addConstr adiciona restrições ao modelo\n",
    "    \n",
    "    c1 = m.addConstr ( 20 * x1 + 10 * x2 <= 80    ) #Restrição de música     \n",
    "\n",
    "    # Adicionar restrição:   x1 + x2 >= 5 \n",
    "    c2 = m.addConstr (  x1 + x2 >= 5 )  #Restrição propagaanda\n",
    "     \n",
    "    # Adicionar restrição:  \n",
    "    # Não tem restrições negativas - Nâo incluí no modelo  \n",
    "\n",
    "    # Resolve/Otimize o modelo \n",
    "    \n",
    "    m.optimize () #Chamar o solver e reslver o modelo\n",
    "    print (\"\")\n",
    "    print (\"Solução: \")\n",
    "    #Acessar a solução\n",
    "    #Imprimir o minimo de produção OU o quandto vou produzir\n",
    "    #Aacessando o valor dessa variável (x1 e x2) na solução ótima\n",
    "    print (\"Frequência A:\", x1.x)\n",
    "    print (\"Frequência B:\", x2.x)\n",
    "   \n",
    "    "
   ]
  },
  {
   "cell_type": "code",
   "execution_count": null,
   "metadata": {},
   "outputs": [],
   "source": []
  }
 ],
 "metadata": {
  "kernelspec": {
   "display_name": "Python 3",
   "language": "python",
   "name": "python3"
  },
  "language_info": {
   "codemirror_mode": {
    "name": "ipython",
    "version": 3
   },
   "file_extension": ".py",
   "mimetype": "text/x-python",
   "name": "python",
   "nbconvert_exporter": "python",
   "pygments_lexer": "ipython3",
   "version": "3.8.3"
  }
 },
 "nbformat": 4,
 "nbformat_minor": 4
}
